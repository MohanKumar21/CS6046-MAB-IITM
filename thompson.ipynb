{
  "nbformat": 4,
  "nbformat_minor": 0,
  "metadata": {
    "colab": {
      "provenance": []
    },
    "kernelspec": {
      "name": "python3",
      "display_name": "Python 3"
    },
    "language_info": {
      "name": "python"
    }
  },
  "cells": [
    {
      "cell_type": "code",
      "execution_count": null,
      "metadata": {
        "id": "NJFY7002nX61"
      },
      "outputs": [],
      "source": [
        "import numpy as np\n",
        "import matplotlib.pyplot as plt\n"
      ]
    },
    {
      "cell_type": "code",
      "source": [
        "\n",
        "class arms:\n",
        "  def __init__(self):\n",
        "    self.K=10\n",
        "    self.arm_means = np.random.random(self.K)\n",
        "    self.best_arm_mean = max(self.arm_means)\n",
        "    self.best_arm = np.argmax(self.arm_means)\n",
        "    self.alpha_beta = np.ones((self.K,2))\n",
        "\n",
        "def thompson_sampling(A,n=1000):\n",
        "  regret =np.zeros(n)\n",
        "\n",
        "  for t in range(n):\n",
        "    sample = np.random.beta(A.alpha_beta[:,0],A.alpha_beta[:,1])\n",
        "    max_sample_arm = np.argmax(sample)\n",
        "    max_sample = max(sample)\n",
        "    x= np.random.binomial(1,A.arm_means[max_sample_arm])\n",
        "\n",
        "    A.alpha_beta[max_sample_arm][0]+=x\n",
        "    A.alpha_beta[max_sample_arm][1]+=(1-x)\n",
        "\n",
        "    if t==0:\n",
        "      regret[t] = A.best_arm_mean - A.arm_means[max_sample_arm]\n",
        "    else:\n",
        "      regret[t] = regret[t-1]+ (A.best_arm_mean - A.arm_means[max_sample_arm])\n",
        "\n",
        "  return regret\n",
        "\n",
        "A=arms()\n",
        "plt.plot(thompson_sampling(A))"
      ],
      "metadata": {
        "colab": {
          "base_uri": "https://localhost:8080/",
          "height": 447
        },
        "id": "jiHOQ3Otnd3q",
        "outputId": "0e13fcca-8c77-449a-d64d-76145fe116c8"
      },
      "execution_count": null,
      "outputs": [
        {
          "output_type": "execute_result",
          "data": {
            "text/plain": [
              "[<matplotlib.lines.Line2D at 0x7f63d5535690>]"
            ]
          },
          "metadata": {},
          "execution_count": 47
        },
        {
          "output_type": "display_data",
          "data": {
            "text/plain": [
              "<Figure size 640x480 with 1 Axes>"
            ],
            "image/png": "[encoded data removed]"
          },
          "metadata": {}
        }
      ]
    },
    {
      "cell_type": "code",
      "source": [
        "\n",
        "class linear_bandits:\n",
        "  def __init__(self):\n",
        "    self.K=10\n",
        "    self.d=3\n",
        "    self.optimal = np.random.uniform(-3,3,self.d)\n",
        "    a=np.random.uniform(-3,3,(self.K,self.d))\n",
        "    self.arms = (a.T/np.linalg.norm(a,axis=1)) .T\n",
        "    print(self.arms)\n",
        "    self.best_arm = np.argmax(self.arms@self.optimal)\n",
        "    self.best_arm_reward = self.arms[self.best_arm] @ self.optimal\n",
        "    print(self.best_arm_reward)\n",
        "\n",
        "np.random.seed(42)\n",
        "\n",
        "def compute_reward(arm,optimal):\n",
        "  return (np.dot(arm,optimal)+np.random.normal(0,1))\n",
        "\n",
        "A = linear_bandits()\n",
        "def linUCB(A,n=2000):\n",
        "  regret=0\n",
        "  reward=0\n",
        "  regret_list=[]\n",
        "  reward_list=[]\n",
        "  delta = 0.0001\n",
        "  gamma= 0.001\n",
        "  b= np.zeros(A.d)\n",
        "  V = gamma* np.eye(A.d)\n",
        "  theta_hat = np.zeros(A.d)\n",
        "\n",
        "  for t in range(n):\n",
        "    confidence = gamma**0.5 + (2* np.log(1/delta) + A.d* np.log(1+ (t/(gamma*A.d))))**0.5\n",
        "    ucb = A.arms@ theta_hat + confidence*np.diag((A.arms @ np.linalg.inv(V) @ A.arms.T))**0.5\n",
        "    chosen_arm = np.argmax(ucb)\n",
        "    reward= compute_reward(A.arms[chosen_arm],A.optimal)\n",
        "    regret+= A.best_arm_reward -  (A.arms[chosen_arm] @ A.optimal)\n",
        "    reward_list.append(reward)\n",
        "    regret_list.append(regret)\n",
        "\n",
        "    V+= np.outer( A.arms[chosen_arm], A.arms[chosen_arm])\n",
        "    b+= reward* A.arms[chosen_arm]\n",
        "    theta_hat = np.linalg.inv(V)@b\n",
        "\n",
        "  # print((A.arms @ np.linalg.inv(V) @ A.arms.T))\n",
        "\n",
        "  # print(theta_hat)\n",
        "\n",
        "  return regret_list\n",
        "\n",
        "plt.plot(linUCB(A))"
      ],
      "metadata": {
        "colab": {
          "base_uri": "https://localhost:8080/",
          "height": 648
        },
        "id": "9pZ3P-xpsby3",
        "outputId": "0551a526-c005-43d1-8cce-f455922543c1"
      },
      "execution_count": null,
      "outputs": [
        {
          "output_type": "stream",
          "name": "stdout",
          "text": [
            "[[ 0.19875462 -0.6929752  -0.69302379]\n",
            " [-0.75832733  0.62835728  0.17351309]\n",
            " [ 0.29605604 -0.68213629  0.66861117]\n",
            " [ 0.61259355 -0.53007401 -0.58630256]\n",
            " [-0.84866655 -0.52474866  0.06636214]\n",
            " [-0.27616336 -0.84718065  0.45389288]\n",
            " [-0.82483012 -0.47556848 -0.30576117]\n",
            " [-0.10548068  0.6847381  -0.72111549]\n",
            " [ 0.0307381   0.19956166 -0.97940304]\n",
            " [ 0.19337459 -0.59242504 -0.78207342]]\n",
            "2.511619540572012\n"
          ]
        },
        {
          "output_type": "execute_result",
          "data": {
            "text/plain": [
              "[<matplotlib.lines.Line2D at 0x7b69f43215a0>]"
            ]
          },
          "metadata": {},
          "execution_count": 4
        },
        {
          "output_type": "display_data",
          "data": {
            "text/plain": [
              "<Figure size 640x480 with 1 Axes>"
            ],
            "image/png": "[encoded data removed]"
          },
          "metadata": {}
        }
      ]
    },
    {
      "cell_type": "code",
      "source": [
        "chosen_arm=3\n",
        "A.arms[chosen_arm]@A.optimal"
      ],
      "metadata": {
        "colab": {
          "base_uri": "https://localhost:8080/"
        },
        "id": "upJszuKUqWAJ",
        "outputId": "886c1b81-c2ae-4a7f-fdcf-571488c091b2"
      },
      "execution_count": null,
      "outputs": [
        {
          "output_type": "execute_result",
          "data": {
            "text/plain": [
              "-2.7107189725189755"
            ]
          },
          "metadata": {},
          "execution_count": 32
        }
      ]
    },
    {
      "cell_type": "code",
      "source": [
        "compute_reward(A.arms[chosen_arm],A.optimal)"
      ],
      "metadata": {
        "colab": {
          "base_uri": "https://localhost:8080/"
        },
        "id": "Z30pmR-XAbZA",
        "outputId": "240946d1-7b16-4b65-aa48-7524da2eead7"
      },
      "execution_count": null,
      "outputs": [
        {
          "output_type": "execute_result",
          "data": {
            "text/plain": [
              "-2.375480285449027"
            ]
          },
          "metadata": {},
          "execution_count": 35
        }
      ]
    },
    {
      "cell_type": "code",
      "source": [],
      "metadata": {
        "id": "RLlI_BMUArTN"
      },
      "execution_count": null,
      "outputs": []
    }
  ]
}