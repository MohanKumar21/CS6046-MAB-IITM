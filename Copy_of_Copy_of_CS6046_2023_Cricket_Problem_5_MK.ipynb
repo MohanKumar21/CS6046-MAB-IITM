{
  "nbformat": 4,
  "nbformat_minor": 0,
  "metadata": {
    "colab": {
      "provenance": []
    },
    "kernelspec": {
      "name": "python3",
      "display_name": "Python 3"
    },
    "language_info": {
      "name": "python"
    }
  },
  "cells": [
    {
      "cell_type": "code",
      "source": [
        "import numpy as np\n",
        "import time\n",
        "# Students will submit their files with their team-name.py\n",
        "# Student have to use the Team as their parent class"
      ],
      "metadata": {
        "id": "RjPY68QJQ-nH"
      },
      "execution_count": 1,
      "outputs": []
    },
    {
      "cell_type": "markdown",
      "source": [
        "Recent Version of the Code"
      ],
      "metadata": {
        "id": "IyIa-PRKCTCb"
      }
    },
    {
      "cell_type": "code",
      "source": [
        "class Agent:\n",
        "  def __init__(self,num_balls,num_matches,no_wickets=4):\n",
        "      self.num_balls=num_balls\n",
        "      self.num_matches=num_matches\n",
        "      self.actions=np.array([0,1,2,3,4,5])\n",
        "      self.K=len(self.actions)\n",
        "      self.no_wickets=no_wickets\n",
        "\n",
        "      self.arm_counts=np.zeros((self.no_wickets,self.K))\n",
        "      self.arm_ucb=np.zeros((self.no_wickets,self.K))\n",
        "      self.arm_rewards= np.zeros((self.no_wickets,self.K))\n",
        "      self.arm_wickets= np.zeros(self.no_wickets)\n",
        "      self.current_batter_index= 0\n",
        "      self.batting_order=np.array([0,1,2,3])\n",
        "\n",
        "      self.balls=0\n",
        "      self.innings=0\n",
        "\n",
        "      self.prev_action=0\n",
        "      self.action=0\n",
        "\n",
        "      self.runs_scored_by_batters=np.zeros(self.no_wickets)\n",
        "\n",
        "      self.strike_rate=np.zeros(self.no_wickets)\n",
        "      self.average=np.zeros(self.no_wickets)\n",
        "      self.dismissal_prob=np.zeros(self.no_wickets)\n",
        "\n",
        "  def check_all_arms_played(self,current_batter_index):\n",
        "    batter=self.batting_order[current_batter_index]\n",
        "    for i in range(self.K):\n",
        "      if self.arm_counts[batter][i]==0:\n",
        "        return False\n",
        "    return True\n",
        "\n",
        "\n",
        "\n",
        "  def get_batting_order(self):\n",
        "    print(self.balls)\n",
        "    beta=np.array([0.1,0.1,0.8])\n",
        "\n",
        "    arr=np.array([self.strike_rate,self.average,self.dismissal_prob])\n",
        "    arr=arr.T\n",
        "    arr=arr/(arr.sum(axis=0)+1)\n",
        "    arr=beta @ arr.T\n",
        "    out=np.argsort(arr)\n",
        "    print(out)\n",
        "    return out\n",
        "\n",
        "  def get_action(self,wicket,runs_scored):\n",
        "\n",
        "    if (self.balls==0):\n",
        "      self.action=np.random.choice(self.actions)\n",
        "      self.prev_action=self.action\n",
        "      self.balls+=1\n",
        "      print(self.action)\n",
        "      return self.action\n",
        "\n",
        "    self.arm_rewards[self.batting_order[self.current_batter_index]][self.prev_action]+=runs_scored\n",
        "    if wicket:\n",
        "      self.arm_wickets[self.batting_order[self.current_batter_index]]+=1\n",
        "      self.current_batter_index+=1\n",
        "      if self.current_batter_index==self.no_wickets:\n",
        "        self.innings+=1\n",
        "        self.current_batter_index=0\n",
        "\n",
        "        self.strike_rate=(np.sum(self.arm_rewards,axis=1)+1)/(np.sum(self.arm_counts,axis=1)+1)\n",
        "        self.averagee=(np.sum(self.arm_rewards,axis=1)+1)/(self.arm_wickets+1)\n",
        "        self.dismissal_prob=self.arm_wickets/self.innings\n",
        "\n",
        "        self.batting_order=self.get_batting_order()\n",
        "        return 0\n",
        "\n",
        "\n",
        "\n",
        "    batter=self.batting_order[self.current_batter_index]\n",
        "    if not self.check_all_arms_played(self.current_batter_index):\n",
        "      for i in range(self.K):\n",
        "        if self.arm_counts[self.batting_order[self.current_batter_index]][i]==0:\n",
        "          self.action=i\n",
        "          self.prev_action=self.action\n",
        "          self.arm_counts[self.batting_order[self.current_batter_index]][self.action]+=1\n",
        "          self.balls+=1\n",
        "          return self.action\n",
        "\n",
        "    else:\n",
        "\n",
        "\n",
        "\n",
        "        self.arm_ucb[batter]= self.arm_rewards[batter]/self.arm_counts[batter] + np.sqrt(4*np.log(self.balls)/self.arm_counts[batter] )\n",
        "\n",
        "        self.action=np.argmax(self.arm_ucb[batter])\n",
        "        self.prev_action=self.action\n",
        "        self.balls+=1\n",
        "        return self.action\n",
        "\n",
        "\n"
      ],
      "metadata": {
        "id": "u3mNBpDOCSWd"
      },
      "execution_count": 115,
      "outputs": []
    },
    {
      "cell_type": "code",
      "source": [
        "class Environment:\n",
        "  def __init__(self,num_balls,agent):\n",
        "    self.num_balls = num_balls\n",
        "    self.agent = agent\n",
        "    self.__run_time = 0\n",
        "    self.__total_runs = 0\n",
        "    self.__total_wickets = 0\n",
        "    self.__runs_scored = 0\n",
        "    self.__start_time = 0\n",
        "    self.__end_time = 0\n",
        "    self.__p_out =np.random.uniform(0,1,(4,6))\n",
        "    self.__p_run =np.random.uniform(0,1,(4,6))\n",
        "    self.__action_runs_map = np.array([0,1,2,3,4,6])\n",
        "    self.__wickets_left = 4\n",
        "    self.__wicket = 0\n",
        "    self.__runs_scored = 0\n",
        "    self.__start_time = 0\n",
        "    self.__end_time = 0\n",
        "    self.__batting_order = np.array([0,1,2,3])\n",
        "    self.__current_batter = self.__batting_order[self.__wickets_left-1]\n",
        "\n",
        "\n",
        "  def __get_action(self):\n",
        "    self.__start_time      = time. time()\n",
        "    action          = self.agent.get_action(self.__wicket, self.__runs_scored)\n",
        "    self.__end_time        = time. time()\n",
        "    self.__run_time   = self.__run_time + self.__end_time - self.__start_time\n",
        "    return action\n",
        "\n",
        "\n",
        "  def __get_outcome(self, action):\n",
        "    self.__current_batter = self.__batting_order[self.__wickets_left-1]\n",
        "    pout = self.__p_out[self.__current_batter][action]\n",
        "    prun = self.__p_run[self.__current_batter][action]\n",
        "    wicket = np.random.choice(2,1,p=[1-pout,pout])[0]\n",
        "    runs = 0\n",
        "    if(wicket==0):\n",
        "      runs = self.__action_runs_map[action]*np.random.choice(2,1,p=[1-prun,prun])[0]\n",
        "    return wicket, runs\n",
        "\n",
        "\n",
        "  def innings(self):\n",
        "    self.__wickets_left = 4\n",
        "    self.__runs_scored = 0\n",
        "    self.__batting_order = self.agent.get_batting_order()\n",
        "    self.__wicket=0\n",
        "\n",
        "    for ball in range(self.num_balls):\n",
        "      if (self.__wickets_left > 0 ) :\n",
        "        action = self.__get_action()\n",
        "        self.__wicket, self.__runs_scored   = self.__get_outcome(action)\n",
        "        self.__total_runs     = self.__total_runs + self.__runs_scored\n",
        "        if (self.__wicket > 0 ):\n",
        "          self.__wickets_left = self.__wickets_left -1\n",
        "        self.__total_wickets  = self.__total_wickets + self.__wicket\n",
        "        if (self.__wickets_left == 0):\n",
        "          self.__get_outcome(action)\n",
        "    return self.__total_runs, self.__total_wickets, self.__run_time\n"
      ],
      "metadata": {
        "id": "rgWgmG_BUqRj"
      },
      "execution_count": 116,
      "outputs": []
    },
    {
      "cell_type": "code",
      "source": [
        "num_matches = 10\n",
        "num_balls = 60\n",
        "agent = Agent(num_balls,num_matches)\n",
        "environment = Environment(100,agent)\n",
        "score = np.zeros((num_matches,1))\n",
        "run_time = np.zeros((num_matches,1))\n",
        "wicket = np.zeros((num_matches,1))\n",
        "for i in range(num_matches):\n",
        "  score[i],wicket[i],run_time[i] = environment.innings()\n",
        "\n",
        "  print(score[i])\n",
        "\n",
        "  print(\"Innings Over\")\n"
      ],
      "metadata": {
        "id": "9_o_gI21Hlme",
        "colab": {
          "base_uri": "https://localhost:8080/"
        },
        "outputId": "c71a6d1d-72dd-46ac-e4d6-7d547e4f827b"
      },
      "execution_count": 122,
      "outputs": [
        {
          "output_type": "stream",
          "name": "stdout",
          "text": [
            "0\n",
            "[0 1 2 3]\n",
            "4\n",
            "[4.]\n",
            "Innings Over\n",
            "6\n",
            "[0 1 2 3]\n",
            "7\n",
            "[3 1 2 0]\n",
            "[14.]\n",
            "Innings Over\n",
            "13\n",
            "[3 1 2 0]\n",
            "17\n",
            "[3 2 1 0]\n",
            "[18.]\n",
            "Innings Over\n",
            "20\n",
            "[3 2 1 0]\n",
            "46\n",
            "[3 0 1 2]\n",
            "[48.]\n",
            "Innings Over\n",
            "46\n",
            "[3 0 1 2]\n",
            "[68.]\n",
            "Innings Over\n",
            "57\n",
            "[3 0 1 2]\n",
            "61\n",
            "[3 0 1 2]\n",
            "[72.]\n",
            "Innings Over\n",
            "63\n",
            "[3 0 1 2]\n",
            "68\n",
            "[3 0 1 2]\n",
            "[76.]\n",
            "Innings Over\n",
            "70\n",
            "[3 0 1 2]\n",
            "80\n",
            "[3 0 1 2]\n",
            "[80.]\n",
            "Innings Over\n",
            "82\n",
            "[3 0 1 2]\n",
            "[84.]\n",
            "Innings Over\n",
            "92\n",
            "[3 0 1 2]\n",
            "93\n",
            "[3 0 1 2]\n",
            "[84.]\n",
            "Innings Over\n"
          ]
        }
      ]
    },
    {
      "cell_type": "code",
      "source": [
        "a=np.zeros(4)\n",
        "b=np.ones(4)\n",
        "x=np.array([a,b])"
      ],
      "metadata": {
        "id": "vHtdQmGLW6jh"
      },
      "execution_count": 58,
      "outputs": []
    },
    {
      "cell_type": "code",
      "source": [
        "x"
      ],
      "metadata": {
        "colab": {
          "base_uri": "https://localhost:8080/"
        },
        "id": "yb1Fvaq5WsSP",
        "outputId": "3ffd3bd5-e824-4f55-f749-08af00ea2a42"
      },
      "execution_count": 59,
      "outputs": [
        {
          "output_type": "execute_result",
          "data": {
            "text/plain": [
              "array([[0., 0., 0., 0.],\n",
              "       [1., 1., 1., 1.]])"
            ]
          },
          "metadata": {},
          "execution_count": 59
        }
      ]
    },
    {
      "cell_type": "code",
      "source": [
        "beta=np.array([0.4,0.4,0.2])\n",
        "\n",
        "arr=np.array([np.ones(4),5*np.ones(4),6*np.ones(4)])\n",
        "\n",
        "arr=arr.T\n",
        "arr=arr/arr.sum(axis=0)\n",
        "arr=beta @ arr.T"
      ],
      "metadata": {
        "id": "UcW2l4qUXHSX"
      },
      "execution_count": 110,
      "outputs": []
    },
    {
      "cell_type": "code",
      "source": [
        "\n",
        "out=np.argsort(arr)\n",
        "\n",
        "out"
      ],
      "metadata": {
        "colab": {
          "base_uri": "https://localhost:8080/"
        },
        "id": "S-ahtI3DXLur",
        "outputId": "8e254847-e9f5-49cd-8da1-7a7eb4a68ea1"
      },
      "execution_count": 111,
      "outputs": [
        {
          "output_type": "execute_result",
          "data": {
            "text/plain": [
              "array([0, 1, 2, 3])"
            ]
          },
          "metadata": {},
          "execution_count": 111
        }
      ]
    },
    {
      "cell_type": "code",
      "source": [],
      "metadata": {
        "id": "ial3_C1lbzXd"
      },
      "execution_count": null,
      "outputs": []
    }
  ]
}