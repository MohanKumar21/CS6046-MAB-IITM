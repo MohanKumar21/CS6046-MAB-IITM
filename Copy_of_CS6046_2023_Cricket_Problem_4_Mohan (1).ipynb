{
  "nbformat": 4,
  "nbformat_minor": 0,
  "metadata": {
    "colab": {
      "provenance": []
    },
    "kernelspec": {
      "name": "python3",
      "display_name": "Python 3"
    },
    "language_info": {
      "name": "python"
    }
  },
  "cells": [
    {
      "cell_type": "code",
      "source": [
        "import numpy as np\n",
        "import time\n",
        "# Students will submit their files with their team-name.py\n",
        "# Student have to use the Team as their parent class"
      ],
      "metadata": {
        "id": "RjPY68QJQ-nH"
      },
      "execution_count": null,
      "outputs": []
    },
    {
      "cell_type": "markdown",
      "source": [
        "Recent Version of the Code"
      ],
      "metadata": {
        "id": "IyIa-PRKCTCb"
      }
    },
    {
      "cell_type": "code",
      "source": [
        "from scipy.special import softmax\n",
        "seed = 42\n",
        "rg = np.random.RandomState(seed)\n",
        "class Agent:\n",
        "  def __init__(self,num_balls,num_matches):\n",
        "      pass\n",
        "\n",
        "  # def get_action(self,wicket,runs_scored):\n",
        "  #   action = np.random.randint(0,6)\n",
        "  #   return action\n",
        "  def get_action(self,Q, state,tau=1, rg=rg,actions=[0,1,2,3,4,5]):\n",
        "\n",
        "    probs=softmax(Q[state]/tau)\n",
        "    return actions.index(rg.choice(actions,p=probs))\n",
        "\n",
        "\n"
      ],
      "metadata": {
        "id": "u3mNBpDOCSWd"
      },
      "execution_count": null,
      "outputs": []
    },
    {
      "cell_type": "code",
      "source": [
        "\n",
        "class Environment:\n",
        "  def __init__(self,num_balls,agent):\n",
        "    self.num_balls = num_balls\n",
        "    self.agent = agent\n",
        "    self.__run_time = 0\n",
        "    self.__total_runs = 0\n",
        "    self.__total_wickets = 0\n",
        "    self.__runs_scored = 0\n",
        "    self.__start_time = 0\n",
        "    self.__end_time = 0\n",
        "    self.__p_out =np.array([0.001,0.01,0.02,0.03,0.1,0.3])\n",
        "    self.__p_run =np.array([1,0.9,0.85,0.8,0.75,0.7])\n",
        "    self.__action_runs_map = np.array([0,1,2,3,4,6])\n",
        "    self.__wickets_left = 4\n",
        "    self.__runs_scored = 0\n",
        "    self.__start_time = 0\n",
        "    self.__end_time = 0\n",
        "    self.__wicket = 0\n",
        "    self.__batting_order = np.array([0,1,2,3,4])\n",
        "    self.Q= np.zeros((self.__wickets_left+1,len(self.__action_runs_map)))\n",
        "    self.alpha = 0.4\n",
        "    self.gamma = 0.9\n",
        "    self.epsilon = 0.1\n",
        "\n",
        "  def __get_action(self,Q,state):\n",
        "    self.__start_time      = time. time()\n",
        "    action          = self.agent.get_action(Q,state)\n",
        "    self.__end_time        = time. time()\n",
        "    self.__run_time   = self.__run_time + self.__end_time - self.__start_time\n",
        "    return action\n",
        "\n",
        "\n",
        "  def __get_outcome(self, action):\n",
        "    pout = self.__p_out[action]\n",
        "    prun = self.__p_run[action]\n",
        "    wicket = np.random.choice(2,1,p=[1-pout,pout])[0]\n",
        "    runs = 0\n",
        "    reward=0\n",
        "    if(wicket==0):\n",
        "      runs = self.__action_runs_map[action]*np.random.choice(2,1,p=[1-prun,prun])[0]\n",
        "    # else:\n",
        "    #   reward=-50\n",
        "    reward+=runs\n",
        "    return wicket, runs,reward\n",
        "\n",
        "\n",
        "\n",
        "  def innings(self):\n",
        "    self.__wickets_left = 4\n",
        "    self.__runs_scored = 0\n",
        "    self.__neg_reward=50\n",
        "    self.__total_wickets=0\n",
        "    state=self.__total_wickets\n",
        "    x=0\n",
        "    for ball in range(self.num_balls):\n",
        "\n",
        "      if (self.__wickets_left > 0 ) :\n",
        "        x+=1\n",
        "        action = self.__get_action(self.Q,state)\n",
        "        self.__wicket, self.__runs_scored,reward   = self.__get_outcome(action)\n",
        "        if self.__wicket:\n",
        "          next_state=state+1\n",
        "        else:\n",
        "          next_state=state\n",
        "        action_next = self.__get_action(self.Q,next_state)\n",
        "\n",
        "        self.Q[state][action]=(1-self.alpha)*(self.Q[state][action]) + self.alpha*(reward+self.gamma*np.max(self.Q[next_state]))\n",
        "        state, action = next_state, action_next\n",
        "\n",
        "        self.__total_runs     = self.__total_runs + self.__runs_scored\n",
        "        if (self.__wicket > 0 ):\n",
        "          self.__wickets_left = self.__wickets_left -1\n",
        "        self.__total_wickets  = self.__total_wickets + self.__wicket\n",
        "    print(\"Balls played\",x+1)\n",
        "\n",
        "\n",
        "    return self.__total_runs, self.__total_wickets, self.__run_time\n"
      ],
      "metadata": {
        "id": "HzfBOAnrCycf"
      },
      "execution_count": null,
      "outputs": []
    },
    {
      "cell_type": "code",
      "source": [
        "num_matches = 10\n",
        "num_balls = 600\n",
        "agent = Agent(num_balls,num_matches)\n",
        "environment = Environment(60,agent)\n",
        "score = np.zeros((num_matches,1))\n",
        "run_time = np.zeros((num_matches,1))\n",
        "wicket = np.zeros((num_matches,1))\n",
        "for i in range(num_matches):\n",
        "  score[i],wicket[i],run_time[i] = environment.innings()\n",
        "print(score)"
      ],
      "metadata": {
        "id": "9_o_gI21Hlme",
        "colab": {
          "base_uri": "https://localhost:8080/"
        },
        "outputId": "d3d0939f-ffc7-4f93-d33f-df740c3e1163"
      },
      "execution_count": null,
      "outputs": [
        {
          "output_type": "stream",
          "name": "stdout",
          "text": [
            "Balls played 41\n",
            "Balls played 45\n",
            "Balls played 61\n",
            "Balls played 54\n",
            "Balls played 33\n",
            "Balls played 61\n",
            "Balls played 38\n",
            "Balls played 60\n",
            "Balls played 51\n",
            "Balls played 33\n",
            "[[ 62.]\n",
            " [158.]\n",
            " [254.]\n",
            " [358.]\n",
            " [460.]\n",
            " [590.]\n",
            " [660.]\n",
            " [748.]\n",
            " [834.]\n",
            " [922.]]\n"
          ]
        }
      ]
    },
    {
      "cell_type": "code",
      "source": [
        "from scipy.special import softmax\n",
        "\n",
        "seed = 42\n",
        "rg = np.random.RandomState(seed)\n",
        "\n",
        "def choose_action_softmax(Q, state,tau=1, rg=rg):\n",
        "    probs=softmax(Q[state[0]][state[1]]/tau)\n",
        "    return actions.index(rg.choice(actions,p=probs))       # TODO: return random action with selection probability"
      ],
      "metadata": {
        "id": "nbGH_C7SB7fq"
      },
      "execution_count": null,
      "outputs": []
    },
    {
      "cell_type": "code",
      "source": [],
      "metadata": {
        "id": "hSHt7JN3BnOg"
      },
      "execution_count": null,
      "outputs": []
    },
    {
      "cell_type": "code",
      "source": [],
      "metadata": {
        "id": "wSSspFMRATiM"
      },
      "execution_count": null,
      "outputs": []
    },
    {
      "cell_type": "code",
      "source": [],
      "metadata": {
        "id": "hsWP5qIlBWUB"
      },
      "execution_count": null,
      "outputs": []
    }
  ]
}